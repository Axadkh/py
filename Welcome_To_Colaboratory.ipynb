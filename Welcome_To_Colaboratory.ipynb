{
  "nbformat": 4,
  "nbformat_minor": 0,
  "metadata": {
    "colab": {
      "name": "Welcome To Colaboratory",
      "provenance": [],
      "collapsed_sections": [],
      "include_colab_link": true
    },
    "kernelspec": {
      "display_name": "Python 3",
      "name": "python3"
    }
  },
  "cells": [
    {
      "cell_type": "markdown",
      "metadata": {
        "id": "view-in-github",
        "colab_type": "text"
      },
      "source": [
        "<a href=\"https://colab.research.google.com/github/Axadkh/py/blob/master/Welcome_To_Colaboratory.ipynb\" target=\"_parent\"><img src=\"https://colab.research.google.com/assets/colab-badge.svg\" alt=\"Open In Colab\"/></a>"
      ]
    },
    {
      "cell_type": "code",
      "metadata": {
        "id": "S_5Ypw1QbX17",
        "colab_type": "code",
        "colab": {}
      },
      "source": [
        "import tensorflow as tf\n",
        "import numpy as np\n",
        "import cv2\n",
        "import os\n",
        "import matplotlib.pyplot as plt\n",
        "\n"
      ],
      "execution_count": 0,
      "outputs": []
    },
    {
      "cell_type": "code",
      "metadata": {
        "id": "QvXF7EMJpm0s",
        "colab_type": "code",
        "colab": {}
      },
      "source": [
        ""
      ],
      "execution_count": 0,
      "outputs": []
    },
    {
      "cell_type": "code",
      "metadata": {
        "id": "1wNC6oE3pnmO",
        "colab_type": "code",
        "colab": {}
      },
      "source": [
        "# from google.colab import drive\n",
        "# drive.mount('/content/drive')"
      ],
      "execution_count": 0,
      "outputs": []
    },
    {
      "cell_type": "code",
      "metadata": {
        "id": "_kTuaqVKpz6k",
        "colab_type": "code",
        "colab": {}
      },
      "source": [
        "DATA_DIR = \"drive\""
      ],
      "execution_count": 0,
      "outputs": []
    },
    {
      "cell_type": "code",
      "metadata": {
        "id": "GbYbkdYZrD1q",
        "colab_type": "code",
        "colab": {}
      },
      "source": [
        "# from google.colab import drive\n",
        "# drive.mount('/content/drive')\n"
      ],
      "execution_count": 0,
      "outputs": []
    },
    {
      "cell_type": "code",
      "metadata": {
        "id": "9Y4MC7DKsh15",
        "colab_type": "code",
        "colab": {}
      },
      "source": [
        "DATA_DIR = \"/content/drive/My Drive/dataset/pets_imags\"\n",
        "CATEGORY =['cate','dog']\n",
        "IMAGE_SIZE = 85\n",
        "\n",
        "training_data = []\n",
        "def prepare_data():\n",
        "  for category in CATEGORY:\n",
        "    path = os.path.join(DATA_DIR,category)\n",
        "    CLASS_NAME = CATEGORY.index(category)\n",
        "    for img in os.listdir(path):\n",
        "      image_array = cv2.imread( os.path.join(path,img), cv2.IMREAD_GRAYSCALE )\n",
        "      resize_image = cv2.resize( image_array, (IMAGE_SIZE,IMAGE_SIZE) )\n",
        "      training_data.append([resize_image,CLASS_NAME])\n",
        "\n",
        "prepare_data()\n"
      ],
      "execution_count": 0,
      "outputs": []
    },
    {
      "cell_type": "code",
      "metadata": {
        "id": "-Q07VwJkzmtS",
        "colab_type": "code",
        "colab": {
          "base_uri": "https://localhost:8080/",
          "height": 34
        },
        "outputId": "29a48c0c-ad41-421f-c703-686f0546bf12"
      },
      "source": [
        "len(training_data)"
      ],
      "execution_count": 112,
      "outputs": [
        {
          "output_type": "execute_result",
          "data": {
            "text/plain": [
              "208"
            ]
          },
          "metadata": {
            "tags": []
          },
          "execution_count": 112
        }
      ]
    },
    {
      "cell_type": "code",
      "metadata": {
        "id": "5XeEfgKgzxmG",
        "colab_type": "code",
        "colab": {}
      },
      "source": [
        "import random \n",
        "random.shuffle(training_data)"
      ],
      "execution_count": 0,
      "outputs": []
    },
    {
      "cell_type": "code",
      "metadata": {
        "id": "RYgBTIU5z_6i",
        "colab_type": "code",
        "colab": {}
      },
      "source": [
        "X = []\n",
        "y = []\n",
        "for featur, lable in training_data:\n",
        "  X.append(featur)\n",
        "  y.append(lable)\n",
        "  \n"
      ],
      "execution_count": 0,
      "outputs": []
    },
    {
      "cell_type": "code",
      "metadata": {
        "id": "ojoOoB5205pP",
        "colab_type": "code",
        "colab": {}
      },
      "source": [
        "X = np.array(X).reshape(-1,IMAGE_SIZE,IMAGE_SIZE,1)\n",
        "y = np.array(y)\n",
        "X = X/255.0"
      ],
      "execution_count": 0,
      "outputs": []
    },
    {
      "cell_type": "code",
      "metadata": {
        "id": "LqDhpteG1UdH",
        "colab_type": "code",
        "colab": {}
      },
      "source": [
        "import tensorflow as tf\n",
        "from tensorflow.keras.models import Sequential\n",
        "from tensorflow.keras.layers import Conv2D,Dense,Flatten,Activation,Dropout,MaxPool2D\n",
        "from tensorflow.keras.utils import to_categorical\n"
      ],
      "execution_count": 0,
      "outputs": []
    },
    {
      "cell_type": "code",
      "metadata": {
        "id": "MjUSq6ry2QTy",
        "colab_type": "code",
        "colab": {
          "base_uri": "https://localhost:8080/",
          "height": 414
        },
        "outputId": "7e980e53-fd53-49b0-9c64-de5be4038ad4"
      },
      "source": [
        "model = Sequential()\n",
        "model.add( Conv2D(80,(3,3),input_shape = X.shape[1:]) )\n",
        "model.add(Activation('relu'))\n",
        "model.add(MaxPool2D(pool_size=(2,2)) )\n",
        "\n",
        "\n",
        "model.add( Conv2D(80,(3,3)) )\n",
        "model.add(MaxPool2D( pool_size=(2,2) ) )\n",
        "\n",
        "model.add(Flatten())\n",
        "model.add(Dense(64))\n",
        "\n",
        "model.add(Dense(1))\n",
        "model.add(Activation('sigmoid'))\n",
        "\n",
        "model.compile(optimizer='adam', loss = 'binary_crossentropy',metrics=['accuracy'])\n",
        "\n",
        "model.fit(X,y,epochs=10,batch_size=32,validation_split=0.1)\n"
      ],
      "execution_count": 134,
      "outputs": [
        {
          "output_type": "stream",
          "text": [
            "Train on 187 samples, validate on 21 samples\n",
            "Epoch 1/10\n",
            "187/187 [==============================] - 5s 25ms/sample - loss: 1.3190 - accuracy: 0.4706 - val_loss: 1.5166 - val_accuracy: 0.4762\n",
            "Epoch 2/10\n",
            "187/187 [==============================] - 4s 22ms/sample - loss: 1.0214 - accuracy: 0.5508 - val_loss: 0.9864 - val_accuracy: 0.4762\n",
            "Epoch 3/10\n",
            "187/187 [==============================] - 4s 21ms/sample - loss: 0.8167 - accuracy: 0.5615 - val_loss: 0.7821 - val_accuracy: 0.4762\n",
            "Epoch 4/10\n",
            "187/187 [==============================] - 4s 21ms/sample - loss: 0.6700 - accuracy: 0.6096 - val_loss: 0.7655 - val_accuracy: 0.5238\n",
            "Epoch 5/10\n",
            "187/187 [==============================] - 4s 21ms/sample - loss: 0.5692 - accuracy: 0.7112 - val_loss: 0.6766 - val_accuracy: 0.5238\n",
            "Epoch 6/10\n",
            "187/187 [==============================] - 4s 21ms/sample - loss: 0.5388 - accuracy: 0.7112 - val_loss: 0.7056 - val_accuracy: 0.6190\n",
            "Epoch 7/10\n",
            "187/187 [==============================] - 4s 21ms/sample - loss: 0.4951 - accuracy: 0.8075 - val_loss: 0.6996 - val_accuracy: 0.6190\n",
            "Epoch 8/10\n",
            "187/187 [==============================] - 4s 22ms/sample - loss: 0.4365 - accuracy: 0.8396 - val_loss: 0.6530 - val_accuracy: 0.5714\n",
            "Epoch 9/10\n",
            "187/187 [==============================] - 4s 22ms/sample - loss: 0.3822 - accuracy: 0.8877 - val_loss: 0.6402 - val_accuracy: 0.6190\n",
            "Epoch 10/10\n",
            "187/187 [==============================] - 4s 22ms/sample - loss: 0.3182 - accuracy: 0.9144 - val_loss: 0.6269 - val_accuracy: 0.6190\n"
          ],
          "name": "stdout"
        },
        {
          "output_type": "execute_result",
          "data": {
            "text/plain": [
              "<tensorflow.python.keras.callbacks.History at 0x7f254026d630>"
            ]
          },
          "metadata": {
            "tags": []
          },
          "execution_count": 134
        }
      ]
    },
    {
      "cell_type": "code",
      "metadata": {
        "id": "_ek_b0mW4e9m",
        "colab_type": "code",
        "colab": {}
      },
      "source": [
        "# model.evaluate(X[:40],y[:40])\n"
      ],
      "execution_count": 0,
      "outputs": []
    },
    {
      "cell_type": "code",
      "metadata": {
        "id": "Go-z7p37C_3a",
        "colab_type": "code",
        "colab": {}
      },
      "source": [
        ""
      ],
      "execution_count": 0,
      "outputs": []
    },
    {
      "cell_type": "code",
      "metadata": {
        "id": "JIHjVvNn9fvg",
        "colab_type": "code",
        "colab": {}
      },
      "source": [
        ""
      ],
      "execution_count": 0,
      "outputs": []
    },
    {
      "cell_type": "code",
      "metadata": {
        "id": "lzaIN8gPArLc",
        "colab_type": "code",
        "colab": {}
      },
      "source": [
        "\n"
      ],
      "execution_count": 0,
      "outputs": []
    }
  ]
}